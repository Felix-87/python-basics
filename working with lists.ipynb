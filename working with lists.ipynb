{
  "cells": [
    {
      "cell_type": "markdown",
      "metadata": {
        "id": "view-in-github",
        "colab_type": "text"
      },
      "source": [
        "<a href=\"https://colab.research.google.com/github/Felix-87/python-basics/blob/main/working%20with%20lists.ipynb\" target=\"_parent\"><img src=\"https://colab.research.google.com/assets/colab-badge.svg\" alt=\"Open In Colab\"/></a>"
      ]
    },
    {
      "cell_type": "markdown",
      "metadata": {
        "id": "f_9pwJQiP4hI"
      },
      "source": [
        "# Working with Lists - Lab\n",
        "\n",
        "## Introduction\n",
        "\n",
        "Now that we have a sense of how to read from a list and alter a list in Python, let's put this knowledge to use.\n",
        "\n",
        "## Objectives\n",
        "\n",
        "You will be able to:\n",
        "\n",
        "* Use indexing to access elements in a list\n",
        "* Apply list methods to make changes to a list\n",
        "* Change elements of a list\n",
        "\n",
        "## Instructions\n",
        "\n",
        "In the previous lesson, we had a list of top travel cities."
      ]
    },
    {
      "cell_type": "code",
      "execution_count": 53,
      "metadata": {
        "id": "xmE4scrvP4hJ"
      },
      "outputs": [],
      "source": [
        "top_travel_cities = ['Solta', 'Greenville', 'Buenos Aires', 'Los Cabos', 'Walla Walla Valley', 'Marakesh', 'Albuquerque', 'Archipelago Sea', 'Iguazu Falls', 'Salina Island', 'Toronto', 'Pyeongchang']"
      ]
    },
    {
      "cell_type": "markdown",
      "metadata": {
        "id": "OpyfrZ2eP4hK"
      },
      "source": [
        "> Remember to press shift+enter to run each gray block of code (including the one above).  Otherwise, the variables will not be defined.\n",
        "\n",
        "In this lab we will work with a list of associated countries corresponding to each of the top travel cities."
      ]
    },
    {
      "cell_type": "code",
      "execution_count": 3,
      "metadata": {
        "id": "RT7XfuC6P4hK"
      },
      "outputs": [],
      "source": [
        "countries = ['Croatia',\n",
        " 'USA',\n",
        " 'Argentina',\n",
        " 'Mexico',\n",
        " 'USA',\n",
        " 'Morocco',\n",
        " 'New Mexico',\n",
        " 'Finland',\n",
        " 'Argentina',\n",
        " 'Italy',\n",
        " 'Canada',\n",
        " 'South Korea']"
      ]
    },
    {
      "cell_type": "markdown",
      "metadata": {
        "id": "DCqWPSyLP4hK"
      },
      "source": [
        "> Run the code in the cell above by pressing shift + enter.\n",
        "\n",
        "The list of countries associated with each city has been assigned to the variable `countries`.  Now we will work with this list.\n",
        "\n",
        "## Accessing elements from lists\n",
        "\n",
        "First, set the variable `italy` to be equal to the third to last element from `countries`.  \n",
        ">**Note:** If you see an **error** stating that `countries` is undefined, it means you must press shift+enter in the second gray box where `countries` variable is assigned."
      ]
    },
    {
      "cell_type": "code",
      "execution_count": 4,
      "metadata": {
        "id": "E3_vfvf-P4hK",
        "outputId": "12494d79-7f0d-4d32-ff0f-d0be931c5914",
        "colab": {
          "base_uri": "https://localhost:8080/",
          "height": 35
        }
      },
      "outputs": [
        {
          "output_type": "execute_result",
          "data": {
            "text/plain": [
              "'Italy'"
            ],
            "application/vnd.google.colaboratory.intrinsic+json": {
              "type": "string"
            }
          },
          "metadata": {},
          "execution_count": 4
        }
      ],
      "source": [
        "italy = None # 'Italy'\n",
        "italy\n",
        "italy= countries[-3]\n",
        "italy"
      ]
    },
    {
      "cell_type": "markdown",
      "metadata": {
        "id": "4mTTLBWgP4hK"
      },
      "source": [
        "> We assigned the varible `italy` equal to `None`, but you should change the word `None` to code that uses the `countries` list to assign `italy` to `'Italy'`.  We wrote the variable `italy` a second time, so that you can see what it contains when you run the code block.  Currently, nothing is displayed below as it equals `None`, but when it's correct it will match the string which is commented out, `'Italy'`."
      ]
    },
    {
      "cell_type": "code",
      "execution_count": 5,
      "metadata": {
        "id": "J050zEnXP4hK",
        "outputId": "4975e840-c730-45b0-8a58-1cd483fa24de",
        "colab": {
          "base_uri": "https://localhost:8080/",
          "height": 35
        }
      },
      "outputs": [
        {
          "output_type": "execute_result",
          "data": {
            "text/plain": [
              "'Italy'"
            ],
            "application/vnd.google.colaboratory.intrinsic+json": {
              "type": "string"
            }
          },
          "metadata": {},
          "execution_count": 5
        }
      ],
      "source": [
        "italy # 'Italy'\n",
        "italy"
      ]
    },
    {
      "cell_type": "markdown",
      "metadata": {
        "id": "hyXvBuaCP4hK"
      },
      "source": [
        "Now access the fourth element and set it equal to the variable `mexico`."
      ]
    },
    {
      "cell_type": "code",
      "execution_count": 6,
      "metadata": {
        "id": "LiVVN9GdP4hK",
        "outputId": "5d46ad9b-19e2-4c9f-f61e-c55c7ce92274",
        "colab": {
          "base_uri": "https://localhost:8080/",
          "height": 35
        }
      },
      "outputs": [
        {
          "output_type": "execute_result",
          "data": {
            "text/plain": [
              "'Mexico'"
            ],
            "application/vnd.google.colaboratory.intrinsic+json": {
              "type": "string"
            }
          },
          "metadata": {},
          "execution_count": 6
        }
      ],
      "source": [
        "mexico = None\n",
        "mexico\n",
        "mexico = countries[3]\n",
        "mexico"
      ]
    },
    {
      "cell_type": "markdown",
      "metadata": {
        "id": "-P1bhJTVP4hL"
      },
      "source": [
        "Notice that the second through fifth elements are all in a row and all in the Western Hemisphere.  Assign that subset of elements to a variable called `kindof_neighbors`."
      ]
    },
    {
      "cell_type": "code",
      "execution_count": 7,
      "metadata": {
        "id": "-jNuz1JiP4hL",
        "outputId": "7ef77f8d-261a-4079-e67b-e20c3d6a588b",
        "colab": {
          "base_uri": "https://localhost:8080/"
        }
      },
      "outputs": [
        {
          "output_type": "execute_result",
          "data": {
            "text/plain": [
              "['Argentina', 'Mexico', 'USA']"
            ]
          },
          "metadata": {},
          "execution_count": 7
        }
      ],
      "source": [
        "kindof_neighbors = None\n",
        "kindof_neighbors\n",
        "kindof_neighbors = countries[2:5]\n",
        "kindof_neighbors"
      ]
    },
    {
      "cell_type": "markdown",
      "metadata": {
        "id": "Wqw4QOf6P4hL"
      },
      "source": [
        "## Changing Elements\n",
        "\n",
        "Ok, now let's add a couple of countries onto this list.  At the end of the list, add the country 'Malta'."
      ]
    },
    {
      "cell_type": "code",
      "execution_count": 8,
      "metadata": {
        "id": "-nX83xPqP4hL",
        "outputId": "ea596adf-9aaa-4b11-d5a6-99f8685b64f4",
        "colab": {
          "base_uri": "https://localhost:8080/"
        }
      },
      "outputs": [
        {
          "output_type": "execute_result",
          "data": {
            "text/plain": [
              "['Croatia',\n",
              " 'USA',\n",
              " 'Argentina',\n",
              " 'Mexico',\n",
              " 'USA',\n",
              " 'Morocco',\n",
              " 'New Mexico',\n",
              " 'Finland',\n",
              " 'Argentina',\n",
              " 'Italy',\n",
              " 'Canada',\n",
              " 'South Korea',\n",
              " 'Malta']"
            ]
          },
          "metadata": {},
          "execution_count": 8
        }
      ],
      "source": [
        "None # add code here\n",
        "countries.append(\"Malta\")\n",
        "countries"
      ]
    },
    {
      "cell_type": "markdown",
      "metadata": {
        "id": "ArZZoMtpP4hL"
      },
      "source": [
        "Then add the country 'Thailand'."
      ]
    },
    {
      "cell_type": "code",
      "execution_count": 9,
      "metadata": {
        "id": "hwGUnQGLP4hL",
        "outputId": "ae7dd5d3-a4ba-4fb2-8b66-fe7220c4e520",
        "colab": {
          "base_uri": "https://localhost:8080/"
        }
      },
      "outputs": [
        {
          "output_type": "execute_result",
          "data": {
            "text/plain": [
              "['Croatia',\n",
              " 'USA',\n",
              " 'Argentina',\n",
              " 'Mexico',\n",
              " 'USA',\n",
              " 'Morocco',\n",
              " 'New Mexico',\n",
              " 'Finland',\n",
              " 'Argentina',\n",
              " 'Italy',\n",
              " 'Canada',\n",
              " 'South Korea',\n",
              " 'Malta',\n",
              " 'Thailand']"
            ]
          },
          "metadata": {},
          "execution_count": 9
        }
      ],
      "source": [
        "None # add code here\n",
        "countries.append(\"Thailand\")\n",
        "countries"
      ]
    },
    {
      "cell_type": "markdown",
      "metadata": {
        "id": "oyj2nPhKP4hL"
      },
      "source": [
        "Now your list of countries should look like the following."
      ]
    },
    {
      "cell_type": "code",
      "execution_count": 10,
      "metadata": {
        "id": "Q1BM6ruCP4hL",
        "outputId": "833fe84b-0a6c-4dfa-c44c-fd636e198598",
        "colab": {
          "base_uri": "https://localhost:8080/"
        }
      },
      "outputs": [
        {
          "output_type": "execute_result",
          "data": {
            "text/plain": [
              "['Croatia',\n",
              " 'USA',\n",
              " 'Argentina',\n",
              " 'Mexico',\n",
              " 'USA',\n",
              " 'Morocco',\n",
              " 'New Mexico',\n",
              " 'Finland',\n",
              " 'Argentina',\n",
              " 'Italy',\n",
              " 'Canada',\n",
              " 'South Korea',\n",
              " 'Malta',\n",
              " 'Thailand']"
            ]
          },
          "metadata": {},
          "execution_count": 10
        }
      ],
      "source": [
        "countries\n",
        "# ['Croatia', 'USA', 'Argentina', 'Mexico', 'USA', 'Morocco', 'New Mexico', 'Finland',\n",
        "# 'Argentina', 'Italy',  'Canada', 'South Korea',  'Malta',  'Thailand']"
      ]
    },
    {
      "cell_type": "markdown",
      "metadata": {
        "id": "kP-W1p5LP4hL"
      },
      "source": [
        "You may have noticed that \"New Mexico\" is included in our list of countries.  That doesn't seem right.  Let's change 'New Mexico' to 'USA'."
      ]
    },
    {
      "cell_type": "code",
      "execution_count": 11,
      "metadata": {
        "id": "WSI0_Q_hP4hL"
      },
      "outputs": [],
      "source": [
        "None # add code here\n",
        "countries[5] = \"USA\""
      ]
    },
    {
      "cell_type": "code",
      "execution_count": 12,
      "metadata": {
        "id": "BMkft5a6P4hL",
        "outputId": "2ceed00b-ef58-4bb6-cbb3-c04cf537c309",
        "colab": {
          "base_uri": "https://localhost:8080/"
        }
      },
      "outputs": [
        {
          "output_type": "execute_result",
          "data": {
            "text/plain": [
              "['Croatia',\n",
              " 'USA',\n",
              " 'Argentina',\n",
              " 'Mexico',\n",
              " 'USA',\n",
              " 'USA',\n",
              " 'New Mexico',\n",
              " 'Finland',\n",
              " 'Argentina',\n",
              " 'Italy',\n",
              " 'Canada',\n",
              " 'South Korea',\n",
              " 'Malta',\n",
              " 'Thailand']"
            ]
          },
          "metadata": {},
          "execution_count": 12
        }
      ],
      "source": [
        "countries\n",
        "# ['Croatia', 'USA', 'Argentina', 'Mexico', 'USA', 'Morocco', 'USA', 'Finland',\n",
        "# 'Argentina', 'Italy',  'Canada', 'South Korea',  'Malta',  'Thailand']"
      ]
    },
    {
      "cell_type": "markdown",
      "metadata": {
        "id": "c-aP3Xt8P4hL"
      },
      "source": [
        "Finally, let's remove Thailand from the list.  No good reason, we're acting on whimsy."
      ]
    },
    {
      "cell_type": "code",
      "execution_count": 13,
      "metadata": {
        "id": "Mly2j0WzP4hL",
        "outputId": "f337a0bd-ea44-49d3-cd73-de44ece6e718",
        "colab": {
          "base_uri": "https://localhost:8080/",
          "height": 35
        }
      },
      "outputs": [
        {
          "output_type": "execute_result",
          "data": {
            "text/plain": [
              "'Thailand'"
            ],
            "application/vnd.google.colaboratory.intrinsic+json": {
              "type": "string"
            }
          },
          "metadata": {},
          "execution_count": 13
        }
      ],
      "source": [
        "countries.pop() # 'Thailand'"
      ]
    },
    {
      "cell_type": "code",
      "execution_count": 14,
      "metadata": {
        "id": "5RGqpu7yP4hL",
        "outputId": "0ca29fa2-6dbb-4783-8140-8b14d241dda1",
        "colab": {
          "base_uri": "https://localhost:8080/"
        }
      },
      "outputs": [
        {
          "output_type": "stream",
          "name": "stdout",
          "text": [
            "['Croatia', 'USA', 'Argentina', 'Mexico', 'USA', 'USA', 'New Mexico', 'Finland', 'Argentina', 'Italy', 'Canada', 'South Korea', 'Malta']\n"
          ]
        }
      ],
      "source": [
        "print(countries)"
      ]
    },
    {
      "cell_type": "markdown",
      "metadata": {
        "id": "6zkWX_SRP4hL"
      },
      "source": [
        "## Exploring Lists with Methods\n",
        "\n",
        "Ok, now we notice that some countries are mentioned more than once.  Let's see how many repeat countries are on this list.  \n",
        "\n",
        "First, use the `set` and `list` functions to return a unique list of countries.  Set this list equal to the variable `unique_countries`."
      ]
    },
    {
      "cell_type": "code",
      "execution_count": 21,
      "metadata": {
        "id": "sr3gUUyQP4hL"
      },
      "outputs": [],
      "source": [
        "unique_countries = None\n",
        "unique_countries = list(set(countries))\n"
      ]
    },
    {
      "cell_type": "code",
      "execution_count": 22,
      "metadata": {
        "id": "MkYdz24KP4hL",
        "outputId": "eda8f3b9-4c01-48fd-b57a-5150d6be2f93",
        "colab": {
          "base_uri": "https://localhost:8080/"
        }
      },
      "outputs": [
        {
          "output_type": "execute_result",
          "data": {
            "text/plain": [
              "['Canada',\n",
              " 'USA',\n",
              " 'Croatia',\n",
              " 'Finland',\n",
              " 'Argentina',\n",
              " 'South Korea',\n",
              " 'New Mexico',\n",
              " 'Mexico',\n",
              " 'Italy',\n",
              " 'Malta']"
            ]
          },
          "metadata": {},
          "execution_count": 22
        }
      ],
      "source": [
        "unique_countries # ['Canada', 'Italy', 'USA', 'Mexico', 'Finland',\n",
        "#'Malta', 'Morocco', 'Croatia', 'Argentina', 'South Korea']"
      ]
    },
    {
      "cell_type": "markdown",
      "metadata": {
        "id": "wPQxkwFfP4hL"
      },
      "source": [
        "Now the number of repeat countries should be the number of countries minus the number of unique countries.  So use the `len` function on both `unique_countries` and `countries` to calculate this and assign the result to the variable `num_of_repeats`."
      ]
    },
    {
      "cell_type": "code",
      "execution_count": 26,
      "metadata": {
        "id": "DS0JuyerP4hM",
        "outputId": "5ad9cedf-29c1-4273-a365-aa6c0345d624",
        "colab": {
          "base_uri": "https://localhost:8080/"
        }
      },
      "outputs": [
        {
          "output_type": "execute_result",
          "data": {
            "text/plain": [
              "3"
            ]
          },
          "metadata": {},
          "execution_count": 26
        }
      ],
      "source": [
        "num_of_repeats = None\n",
        "num_of_repeats # 3\n",
        "num_of_repeats = len(countries) - len(unique_countries)\n",
        "num_of_repeats"
      ]
    },
    {
      "cell_type": "markdown",
      "metadata": {
        "id": "IVxQqSO5P4hM"
      },
      "source": [
        "## Summary\n",
        "\n",
        "In this lesson, we practiced working with lists in Python. We saw how to index lists to select specific elements, how to use list methods to change lists, and how to add and remove elements from a list. Finally, we saw how to use a set to calculate the number of unique elements in the list."
      ]
    }
  ],
  "metadata": {
    "kernelspec": {
      "display_name": "Python (learn-env)",
      "language": "python",
      "name": "learn-env"
    },
    "language_info": {
      "codemirror_mode": {
        "name": "ipython",
        "version": 3
      },
      "file_extension": ".py",
      "mimetype": "text/x-python",
      "name": "python",
      "nbconvert_exporter": "python",
      "pygments_lexer": "ipython3",
      "version": "3.8.5"
    },
    "colab": {
      "provenance": [],
      "include_colab_link": true
    }
  },
  "nbformat": 4,
  "nbformat_minor": 0
}